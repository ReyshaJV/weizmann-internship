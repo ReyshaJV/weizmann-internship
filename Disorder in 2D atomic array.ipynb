{
 "cells": [
  {
   "cell_type": "code",
   "execution_count": 3,
   "metadata": {},
   "outputs": [],
   "source": [
    "import numpy.matlib\n",
    "import numpy as np\n",
    "import cmath\n",
    "import matplotlib.pyplot as plt\n",
    "from mpl_toolkits.mplot3d import Axes3D\n",
    "from seaborn import heatmap\n",
    "\n",
    "from matplotlib import cm"
   ]
  },
  {
   "cell_type": "code",
   "execution_count": 4,
   "metadata": {},
   "outputs": [],
   "source": [
    "j=complex(0,1)           # iota , sqrt of -1\n",
    "\n",
    "n_side=26                # no. of atoms along an edge of the array\n",
    "\n",
    "n=n_side**2              # for a square atomi array\n",
    "\n",
    "c_light=3*10**8          # m/s speed of light\n",
    "\n",
    "lamda=500 * 10**-9       # (in m) wavelength of light\n",
    "\n",
    "w=2*np.pi*c_light/lamda\n",
    "\n",
    "a=0.2*lamda              # interatomic distance, in terms of lamda\n",
    "\n",
    "L=(n_side-1)*a           # length of the atomic array\n",
    "\n",
    "k=2*np.pi/lamda          # wavenumber of incidnet light\n",
    "\n",
    "epsilon=8.85*10**-12     # SI units, permitivitty of free space\n",
    "\n",
    "#assuming no non-radiative losses and w_a=w\n",
    "w_a=w \n",
    "lamda_a=c_light/(w_a/(2*np.pi))\n",
    "\n",
    "alpha=3/(4*np.pi**2)*epsilon*lamda_a**3*j # polarization of an atom\n",
    "\n",
    "#Charactersitics of incident beam: \n",
    "\n",
    "#polaization direction\n",
    "e_x = np.array([1,0.,0.]) # the vector for x polarized field\n",
    "\n",
    "#waist\n",
    "w_0 = 0.3*np.sqrt(n)*a\n",
    "\n",
    "#Amplitude of the electric field of the beam\n",
    "E_beam_amp=1 # defaulted to 1 in the function below"
   ]
  },
  {
   "cell_type": "code",
   "execution_count": 5,
   "metadata": {},
   "outputs": [],
   "source": [
    "def Greens(m,l,k,r_1,r_2):\n",
    "    '''Calculates the greens function G_{ml}(r_1,r_2) using eq S3'''\n",
    "    if ((r_1[0]==r_2[0])and(r_1[1]==r_2[1])and(r_1[2]==r_2[2])):    #skip the same atom\n",
    "        return 0\n",
    "    else:\n",
    "        r_vect=r_1-r_2 \n",
    "        r=np.sqrt(np.sum(np.square(r_vect)))\n",
    "        \n",
    "        if m==l: # serves as kronecker delta\n",
    "            t1=(1+ (j*k*r-1)/((k*r)**2))\n",
    "        else:\n",
    "            t1=0\n",
    "        t2=(-1 + (3-3*k*r*j)/(k*r)**2)*r_vect[m]*r_vect[l]/r**2\n",
    "        t3=(np.cos(k*r)+j*np.sin(k*r))*(t1+t2)/(4*np.pi*r)  #eq S3\n",
    "        return t3"
   ]
  },
  {
   "cell_type": "markdown",
   "metadata": {},
   "source": [
    "$$G_{ij}(k,\\textbf{r}_1,\\textbf{r}_2)=\\frac{e^{ikr}}{4\\pi r}\\left[\\left(1+\\frac{ikr-1}{k^2r^2}\\right)\\delta_{ij}+\\left(-1+\\frac{3-3ikr}{k^2r^2}\\right)\\frac{r^ir^j}{r^2}\\right]$$\n",
    "where $\\textbf{r}=\\textbf{r}_1-\\textbf{r}_2$, $r=\\left|{\\textbf{r}}\\right|$ and $r^i=e_i.\\textbf{r}$"
   ]
  },
  {
   "cell_type": "code",
   "execution_count": 6,
   "metadata": {},
   "outputs": [],
   "source": [
    "def gaussian_beam(x,y,z,w_0,lamda,e_L,E_0_amp=1):\n",
    "    '''returns the incident gaussian beam at the point (x,y,z)\\\n",
    "    given byy equation eq. S55 \\\n",
    "    For z=0, exp(1/R(z)) term has been set to 0\\\n",
    "    lamda is the wavelength of the beam\\\n",
    "    w_0 is the beam waist at the focal point\\\n",
    "    e_L is the polarization vector\\\n",
    "    E_0_amp is the amplitude '''\n",
    "    #wave number k\n",
    "    k = 2*np.pi/lamda\n",
    "    \n",
    "    #below constants are as defined in the paper eq. S56\n",
    "    z_R = np.pi*w_0**2/lamda \n",
    "    w_z = w_0*np.sqrt(1+(z/z_R)**2)\n",
    "\n",
    "    phi_z = np.arctan(z/z_R)\n",
    "\n",
    "    #Rz tends to infinity as z tends to 0. Which is why this ifelse condition is required \\\n",
    "    #to explicitly set the term involving  1/R to zero\n",
    "    if z == 0:\n",
    "        R_z = 1e100\n",
    "        theta=k*z - phi_z #theta is the coeff of the exponential form of the complex number \n",
    "    else:\n",
    "        R_z = z*(1+(z_R/z)**2)\n",
    "        #This is the coeff of i in the exponential. \n",
    "        theta = k*z - phi_z + k*(x**2+y**2)/(2*R_z)\n",
    "    \n",
    "    #Following are the magnitude, real part and imaginary part respectively of the electric field of incident light\n",
    "    E_0 = (E_0_amp*(w_0/w_z)*np.exp(-1*(x**2+y**2)/(w_z**2))*(np.cos(theta)+j*np.sin(theta)))*e_L # eq S55\n",
    "\n",
    "    return E_0 #the final incident beam at (x,y,z) "
   ]
  },
  {
   "cell_type": "markdown",
   "metadata": {},
   "source": [
    "Gaussian beam equation:\n",
    "\n",
    "$$\\textbf{E}_0\\left(x',y',z'\\right) = E_0\\textbf{e}_L\\frac{w_0}{w(z')}e^{ikz'}e^{-i\\phi(z')}e^{-\\frac{x'^2+y'^2}{w^2(z')}}e^{ik\\frac{x'^2+y'^2}{2R(z')}}$$\n",
    "    \n",
    "with the parameters being,\n",
    "    \n",
    "$$w(z)=w_0\\sqrt{1+\\left(\\frac{z}{z_R}\\right)^2},   z_R=\\frac{\\pi w_0^2}{\\lambda},    R\\left(z\\right)=z\\left[1+\\left(\\frac{z_R}{z}\\right)^2\\right],    \\phi \\left(z\\right) = \\arctan\\left(\\frac{z'}{z_R}\\right)$$"
   ]
  },
  {
   "cell_type": "markdown",
   "metadata": {},
   "source": [
    "Plot the variation of the electric field of the beam  with z axis at x=0,y=0"
   ]
  },
  {
   "cell_type": "code",
   "execution_count": 7,
   "metadata": {},
   "outputs": [],
   "source": [
    "# Function which returns, incident, scattered and total electric field at position x, y, z\n",
    "def E(x,y,z,E_at_atoms_V,R,lamda,w_0,alpha):   \n",
    "    '''returns the incident electric field, scattered electric field and total electric field at the point (x,y,z)\\\n",
    "    E_at_atoms_V is the field at the atoms'''\n",
    "    Greens_at_r = np.zeros(shape=(3,n,3),dtype=np.complex_)\n",
    "    E_0_at_r = gaussian_beam(x,y,z,w_0,lamda,np.array([1,0,0]))# incident electric field\n",
    "  \n",
    "    for i in range(0,3):\n",
    "        for m in range(0,3):\n",
    "            for atoms_index in range(0,n):\n",
    "                Greens_at_r[i,atoms_index,m]=Greens(i,m,k,(x,y,z),R[atoms_index])\n",
    "                \n",
    "    Greens_at_r_M = Greens_at_r.reshape(3,3*n)\n",
    "    # the scattered electric field\n",
    "    Scattered_field = (4*(np.pi**2)*alpha/(epsilon*lamda**2)) *np.matmul(Greens_at_r_M,E_at_atoms_V).reshape(3,)\\\n",
    "    #total electric field\n",
    "    E_space = np.add(E_0_at_r , Scattered_field)\n",
    "    \n",
    "    return E_0_at_r, Scattered_field, E_space # incident field, scattered field, total field"
   ]
  },
  {
   "cell_type": "markdown",
   "metadata": {},
   "source": [
    "finding transmittivity along a particular z direction"
   ]
  },
  {
   "cell_type": "code",
   "execution_count": 8,
   "metadata": {},
   "outputs": [],
   "source": [
    "def transmittivity(R,w_0,alpha,wavelength,e_x,E_beam_amp,x_find=0,y_find=0,z_dist=100*lamda):     \n",
    "#Field value at points where atoms are placed i.e. z=0\n",
    "    E_0_at_atoms = np.zeros(shape=(n,3),dtype=np.complex_)\n",
    "\n",
    "#position of atoms is at (x,y,0)\n",
    "\n",
    "#The order is as explained in the final cell of gaussian_beam\n",
    "    for i in range(0,n):\n",
    "          E_0_at_atoms[i] = gaussian_beam(R[i][0],R[i][1],R[i][2],w_0,wavelength,e_x,E_beam_amp)\n",
    "        \n",
    "#E_0_at_atoms is a (n ,3) matrix, with n running over indices of atoms, 3 denoting the component of electric field at the atom\n",
    "    G=np.empty(shape=(n,3,n,3),dtype=np.complex_)\n",
    "\n",
    "#Calculating the G matrix to find the field at the atoms in n_1,3,n_2,3 form, where n_1 is index of r1, n_2 is index of r2\n",
    "# this g is used in eq S54\n",
    "    for r_1 in range(0,n):      \n",
    "            for m in range(0,3):\n",
    "                  for r_2 in range(0,n):\n",
    "                        for l in range(0,3):\n",
    "                            G[r_1,m,r_2,l]=Greens(m,l,k,R[r_1],R[r_2])# using eq S3\n",
    "# G is in 3n * 3n matrix  form  \n",
    "    G_M=G.reshape(3*n,3*n)\n",
    "\n",
    "# E_0_at_atoms is the incident electric field at atoms\n",
    "    E_0_V=E_0_at_atoms.reshape(3*n,1) # reshape E_n so that it can be multiplied by a 3n*3n  matrix\n",
    "\n",
    "# Calculating total electric fields at the atoms\n",
    "    I_M=np.identity(3*n,dtype=np.complex_)\n",
    "\n",
    "    INVERSE_M=np.linalg.inv(I_M-(4*(np.pi**2)*alpha/(epsilon*wavelength**2)*G_M)) # the inverse term in eq S54\n",
    "\n",
    "    E_at_atoms_V=np.matmul(INVERSE_M,E_0_V) # eq S54 \n",
    "\n",
    "    E_at_atoms=E_at_atoms_V.reshape(n,3)    \n",
    "\n",
    "    Incident_1,Scattered_1,Total_1=E(x_find,y_find,-z_dist,E_at_atoms_V,R,wavelength,w_0,alpha) # negative z\n",
    "    Incident_2,Scattered_2,Total_2=E(x_find,y_find,z_dist,E_at_atoms_V,R,wavelength,w_0,alpha) # positive z\n",
    "\n",
    "    T=abs(Total_2[0]/Incident_1[0])**2# transmittivity\n",
    "    return T\n",
    "\n",
    "\n",
    "\n",
    "    "
   ]
  },
  {
   "cell_type": "code",
   "execution_count": 10,
   "metadata": {},
   "outputs": [],
   "source": [
    "#actual position of atoms\n",
    "R=np.zeros(shape=(n,3)) \n",
    "for i in range(0,n):\n",
    "    R[i]=((-L/2+a*(i%n_side)),(L/2-a*int((i/n_side))),0)\n",
    "\n"
   ]
  },
  {
   "cell_type": "code",
   "execution_count": 17,
   "metadata": {
    "scrolled": false
   },
   "outputs": [
    {
     "name": "stdout",
     "output_type": "stream",
     "text": [
      "0 0\n",
      "0 1\n",
      "0 2\n",
      "0\n",
      "1 0\n",
      "1 1\n",
      "1 2\n",
      "1\n",
      "2 0\n",
      "2 1\n",
      "2 2\n",
      "2\n",
      "3 0\n",
      "3 1\n",
      "3 2\n",
      "3\n",
      "4 0\n",
      "4 1\n",
      "4 2\n",
      "4\n",
      "5 0\n",
      "5 1\n",
      "5 2\n",
      "5\n",
      "6 0\n",
      "6 1\n",
      "6 2\n",
      "6\n",
      "7 0\n",
      "7 1\n",
      "7 2\n",
      "7\n",
      "8 0\n",
      "8 1\n",
      "8 2\n",
      "8\n",
      "9 0\n",
      "9 1\n",
      "9 2\n",
      "9\n",
      "10 0\n",
      "10 1\n",
      "10 2\n",
      "10\n",
      "11 0\n",
      "11 1\n",
      "11 2\n",
      "11\n",
      "12 0\n",
      "12 1\n",
      "12 2\n",
      "12\n",
      "13 0\n",
      "13 1\n",
      "13 2\n",
      "13\n",
      "14 0\n",
      "14 1\n",
      "14 2\n",
      "14\n",
      "15 0\n",
      "15 1\n",
      "15 2\n",
      "15\n",
      "16 0\n",
      "16 1\n",
      "16 2\n",
      "16\n",
      "17 0\n",
      "17 1\n",
      "17 2\n",
      "17\n",
      "18 0\n",
      "18 1\n",
      "18 2\n",
      "18\n",
      "19 0\n",
      "19 1\n",
      "19 2\n",
      "19\n",
      "20 0\n",
      "20 1\n",
      "20 2\n",
      "20\n",
      "21 0\n",
      "21 1\n",
      "21 2\n",
      "21\n",
      "22 0\n",
      "22 1\n",
      "22 2\n",
      "22\n",
      "23 0\n",
      "23 1\n",
      "23 2\n",
      "23\n",
      "24 0\n",
      "24 1\n",
      "24 2\n",
      "24\n"
     ]
    }
   ],
   "source": [
    "\n",
    "\n",
    "limits_of_disorder=np.linspace(0,a,25)\n",
    "Transmittivity=np.zeros(shape=len(limits_of_disorder) )\n",
    "for i in range(0,len(limits_of_disorder)):\n",
    "    #try  'no_of_trials' times with this limit   \n",
    "    no_of_trials=3\n",
    "    T_l=np.zeros(shape=(no_of_trials))\n",
    "    for l in range(0,3):\n",
    "        print(i,l)\n",
    "        #disorder in x       \n",
    "        R1=np.zeros(shape=(R.shape))\n",
    "        disorder=np.random.uniform(low=0,high=limits_of_disorder[i],size=(n,))\n",
    "        R1[:,0]=disorder+R[:,0]\n",
    "        # for disorder in y\n",
    "        disorder=np.random.uniform(low=0,high=limits_of_disorder[i],size=(n,))\n",
    "        R1[:,1]=disorder+R[:,1]\n",
    "        \n",
    "        #no disorder in z\n",
    "        R1[:,2]=R[:,2]\n",
    "    \n",
    "        T_l[l]=transmittivity(R1,w_0,alpha,lamda,e_x,E_beam_amp,x_find=0,y_find=0,z_dist=100*lamda)\n",
    "        \n",
    "    Transmittivity[i]=np.mean(T_l)  #take average of all these trials\n",
    "    print(i)\n"
   ]
  },
  {
   "cell_type": "code",
   "execution_count": 20,
   "metadata": {},
   "outputs": [
    {
     "data": {
      "text/plain": [
       "Text(0.5, 0, 'Maximum disorder (in units of a)')"
      ]
     },
     "execution_count": 20,
     "metadata": {},
     "output_type": "execute_result"
    },
    {
     "data": {
      "image/png": "[encoded data removed]",
      "text/plain": [
       "<Figure size 432x288 with 1 Axes>"
      ]
     },
     "metadata": {
      "needs_background": "light"
     },
     "output_type": "display_data"
    }
   ],
   "source": [
    "plt.plot(limits_of_disorder/a,Transmittivity)\n",
    "plt.title(f'Transmittivity vs Maximum disorder \\n for Uniform Distribution of Disorder \\n for a/$\\lambda$={a/lamda} ')\n",
    "plt.ylabel(r'$T=|E/E_{0}|^2$')\n",
    "plt.xlabel('Maximum disorder (in units of a)')\n"
   ]
  },
  {
   "cell_type": "code",
   "execution_count": null,
   "metadata": {},
   "outputs": [],
   "source": []
  },
  {
   "cell_type": "code",
   "execution_count": null,
   "metadata": {},
   "outputs": [],
   "source": []
  }
 ],
 "metadata": {
  "kernelspec": {
   "display_name": "Python 3 (ipykernel)",
   "language": "python",
   "name": "python3"
  },
  "language_info": {
   "codemirror_mode": {
    "name": "ipython",
    "version": 3
   },
   "file_extension": ".py",
   "mimetype": "text/x-python",
   "name": "python",
   "nbconvert_exporter": "python",
   "pygments_lexer": "ipython3",
   "version": "3.9.5"
  }
 },
 "nbformat": 4,
 "nbformat_minor": 4
}
