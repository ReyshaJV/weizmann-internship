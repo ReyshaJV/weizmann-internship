{
  "cells": [
    {
      "cell_type": "code",
      "execution_count": 68,
      "metadata": {
        "id": "9JiVzw_veIyl"
      },
      "outputs": [],
      "source": [
        "import numpy.matlib\n",
        "import numpy as np\n",
        "import cmath\n",
        "import matplotlib.pyplot as plt\n",
        "from mpl_toolkits.mplot3d import Axes3D\n",
        "from seaborn import heatmap\n",
        "\n",
        "from matplotlib import cm"
      ]
    },
    {
      "cell_type": "code",
      "execution_count": 140,
      "metadata": {
        "id": "h8uxZCUxeIyz"
      },
      "outputs": [],
      "source": [
        "j=complex(0,1)           # iota , sqrt of -1\n",
        "\n",
        "n_side=201               # no. of atoms along an edge of the array\n",
        "\n",
        "n=n_side**2              # for a square atomi array\n",
        "\n",
        "c_light=3*10**8          # m/s speed of light\n",
        "\n",
        "lamda=500 * 10**-9       # (in m) wavelength of light\n",
        "\n",
        "w=2*np.pi*c_light/lamda\n",
        "\n",
        "a=0.2*lamda              # interatomic distance, in terms of lamda\n",
        "\n",
        "L=(n_side-1)*a           # length of the atomic array\n",
        "\n",
        "k=2*np.pi/lamda          # wavenumber of incidnet light\n",
        "\n",
        "epsilon=8.85*10**-12     # SI units, permitivitty of free space\n",
        "\n",
        "#assuming no non-radiative losses and w_a=w\n",
        "w_a=w \n",
        "lamda_a=c_light/(w_a/(2*np.pi))\n",
        "\n",
        "alpha=3/(4*np.pi**2)*epsilon*lamda_a**3*j # polarization of an atom\n",
        "\n",
        "#Charactersitics of incident beam: \n",
        "\n",
        "#polaization direction\n",
        "e_x = np.array([1,0.,0.]) # the vector for x polarized field\n",
        "\n",
        "#waist\n",
        "w_0 = 0.3*np.sqrt(n)*a\n",
        "\n",
        "#Amplitude of the electric field of the beam\n",
        "E_beam_amp=1 # defaulted to 1 in the function below"
      ]
    },
    {
      "cell_type": "code",
      "execution_count": 128,
      "metadata": {
        "id": "oNjRD3jLeIy1"
      },
      "outputs": [],
      "source": [
        "def Greens(m,l,k,r_1,r_2):\n",
        "    '''Calculates the greens function G_{ml}(r_1,r_2) using eq S3'''\n",
        "    if ((r_1[0]==r_2[0])and(r_1[1]==r_2[1])and(r_1[2]==r_2[2])):    #skip the same atom\n",
        "        return 0\n",
        "    else:\n",
        "        r_vect=r_1-r_2 \n",
        "        r=np.sqrt(np.sum(np.square(r_vect)))\n",
        "        \n",
        "        if m==l: # serves as kronecker delta\n",
        "            t1=(1+ (j*k*r-1)/((k*r)**2))\n",
        "        else:\n",
        "            t1=0\n",
        "        t2=(-1 + (3-3*k*r*j)/(k*r)**2)*r_vect[m]*r_vect[l]/r**2\n",
        "        t3=(np.cos(k*r)+j*np.sin(k*r))*(t1+t2)/(4*np.pi*r)  #eq S3\n",
        "        return t3"
      ]
    },
    {
      "cell_type": "markdown",
      "metadata": {
        "id": "Xq5mlBaOeIy3"
      },
      "source": [
        "$$G_{ij}(k,\\textbf{r}_1,\\textbf{r}_2)=\\frac{e^{ikr}}{4\\pi r}\\left[\\left(1+\\frac{ikr-1}{k^2r^2}\\right)\\delta_{ij}+\\left(-1+\\frac{3-3ikr}{k^2r^2}\\right)\\frac{r^ir^j}{r^2}\\right]$$\n",
        "where $\\textbf{r}=\\textbf{r}_1-\\textbf{r}_2$, $r=\\left|{\\textbf{r}}\\right|$ and $r^i=e_i.\\textbf{r}$"
      ]
    },
    {
      "cell_type": "code",
      "execution_count": 72,
      "metadata": {
        "id": "5YX97ZyJeIy8"
      },
      "outputs": [],
      "source": [
        "def gaussian_beam(x,y,z,w_0,lamda,e_L,E_0_amp=1):\n",
        "    '''returns the incident gaussian beam at the point (x,y,z)\\\n",
        "    given by equation eq. S55 \\\n",
        "    For z=0, exp(1/R(z)) term has been set to 0\\\n",
        "    lamda is the wavelength of the beam\\\n",
        "    w_0 is the beam waist at the focal point\\\n",
        "    e_L is the polarization vector\\\n",
        "    E_0_amp is the amplitude '''\n",
        "    #wave number k\n",
        "    k = 2*np.pi/lamda\n",
        "    \n",
        "    #below constants are as defined in the paper eq. S56\n",
        "    z_R = np.pi*w_0**2/lamda \n",
        "    w_z = w_0*np.sqrt(1+(z/z_R)**2)\n",
        "\n",
        "    phi_z = np.arctan(z/z_R)\n",
        "\n",
        "    #Rz tends to infinity as z tends to 0. Which is why this ifelse condition is required \\\n",
        "    #to explicitly set the term involving  1/R to zero\n",
        "    if z == 0:\n",
        "        R_z = 1e100\n",
        "        theta=k*z - phi_z #theta is the coeff of the exponential form of the complex number \n",
        "    else:\n",
        "        R_z = z*(1+(z_R/z)**2)\n",
        "        #This is the coeff of i in the exponential. \n",
        "        theta = k*z - phi_z + k*(x**2+y**2)/(2*R_z)\n",
        "    \n",
        "    #Following are the magnitude, real part and imaginary part respectively of the electric field of incident light\n",
        "    E_0 = (E_0_amp*(w_0/w_z)*np.exp(-1*(x**2+y**2)/(w_z**2))*(np.cos(theta)+j*np.sin(theta)))*e_L # eq S55\n",
        "\n",
        "    return E_0 #the final incident beam at (x,y,z) "
      ]
    },
    {
      "cell_type": "markdown",
      "metadata": {
        "id": "hvm2xtfveIy_"
      },
      "source": [
        "Gaussian beam equation:\n",
        "\n",
        "$$\\textbf{E}_0\\left(x',y',z'\\right) = E_0\\textbf{e}_L\\frac{w_0}{w(z')}e^{ikz'}e^{-i\\phi(z')}e^{-\\frac{x'^2+y'^2}{w^2(z')}}e^{ik\\frac{x'^2+y'^2}{2R(z')}}$$\n",
        "    \n",
        "with the parameters being,\n",
        "    \n",
        "$$w(z)=w_0\\sqrt{1+\\left(\\frac{z}{z_R}\\right)^2},   z_R=\\frac{\\pi w_0^2}{\\lambda},    R\\left(z\\right)=z\\left[1+\\left(\\frac{z_R}{z}\\right)^2\\right],    \\phi \\left(z\\right) = \\arctan\\left(\\frac{z'}{z_R}\\right)$$"
      ]
    },
    {
      "cell_type": "markdown",
      "metadata": {
        "id": "mrDTvzJeeIzC"
      },
      "source": [
        "Plot the variation of the electric field of the beam  with z axis at x=0,y=0"
      ]
    },
    {
      "cell_type": "code",
      "execution_count": 141,
      "metadata": {
        "colab": {
          "base_uri": "https://localhost:8080/",
          "height": 300
        },
        "id": "HfAZowdTeIzF",
        "outputId": "6da4c029-0d43-4879-85eb-66b7801b514e"
      },
      "outputs": [
        {
          "output_type": "display_data",
          "data": {
            "text/plain": [
              "<Figure size 432x288 with 1 Axes>"
            ],
            "image/png": "[encoded data removed]"
          },
          "metadata": {
            "needs_background": "light"
          }
        }
      ],
      "source": [
        "#position of x,y at which values of electric field along z axis are plotted\n",
        "x = 0\n",
        "y = 0\n",
        "\n",
        "\n",
        "#initialization\n",
        "#range of z\n",
        "z = np.arange(-5, 5+10/500, 10/500)\n",
        "E_incident_along_z=np.zeros(shape=(len(z),3),dtype=np.complex_)\n",
        "for i in range(0,len(z)):\n",
        "    E_incident_along_z[i]= gaussian_beam(x,y,z[i]*lamda,w_0,lamda,e_x,E_beam_amp)\n",
        "\n",
        "plt.plot(z,E_incident_along_z[:,0].real,label='Re[$E_0$]',color='blue') #plotting only x component as remaining components are 0 because of polarization\n",
        "plt.plot(z,E_incident_along_z[:,0].imag,label='Im[$E_0$]',color='red')\n",
        "plt.plot(z,abs(E_incident_along_z[:,0]),label='|$E_0$|',color='black')\n",
        "plt.xlabel('z/$\\lambda$')\n",
        "plt.ylabel('$E_0$ along x direction')\n",
        "plt.legend(bbox_to_anchor=(1,1))\n",
        "plt.title('Plot at x=0, y=0 with $e_x$ polarization')\n",
        "# function to show the plot\n",
        "plt.show()\n"
      ]
    },
    {
      "cell_type": "code",
      "execution_count": 143,
      "metadata": {
        "colab": {
          "base_uri": "https://localhost:8080/",
          "height": 266
        },
        "id": "bSfx1t_AeIzH",
        "outputId": "0383be10-f7d9-4b0c-fca1-2ca27ae55b80"
      },
      "outputs": [
        {
          "output_type": "execute_result",
          "data": {
            "text/plain": [
              "<mpl_toolkits.mplot3d.art3d.Path3DCollection at 0x7f1b5cc0b590>"
            ]
          },
          "metadata": {},
          "execution_count": 143
        },
        {
          "output_type": "display_data",
          "data": {
            "text/plain": [
              "<Figure size 432x288 with 1 Axes>"
            ],
            "image/png": "[encoded data removed]"
          },
          "metadata": {
            "needs_background": "light"
          }
        }
      ],
      "source": [
        "R=np.zeros(shape=(n,3)) \n",
        "for i in range(0,n):\n",
        "    R[i]=((-L/2+a*(i%n_side)),(L/2-a*int((i/n_side))),0)\n",
        "\n",
        "fig = plt.figure()\n",
        "ax = plt.axes(projection='3d')\n",
        "ax.set_xlabel('x (in units of a)')\n",
        "ax.set_ylabel('y (in units of a) ')\n",
        "ax.set_zlabel('z (in units of lamda) ')\n",
        "#ax.view_init(3*10**-7,2*10**-7,'x')\n",
        "ax.scatter3D(R[:,0]/a,R[:,1]/a,R[:,2]/lamda,cmap=\"Greens\")"
      ]
    },
    {
      "cell_type": "code",
      "execution_count": 144,
      "metadata": {
        "id": "eZzC3DofeIzL"
      },
      "outputs": [],
      "source": [
        "#Field value at points where atoms are placed i.e. z=0\n",
        "E_0_at_atoms = np.zeros(shape=(n,3),dtype=np.complex_)\n",
        "\n",
        "#position of atoms is at (x,y,0)\n",
        "\n",
        "#The order is as explained in the final cell of gaussian_beam\n",
        "for i in range(0,n):\n",
        "      E_0_at_atoms[i] = gaussian_beam(R[i][0],R[i][1],R[i][2],w_0,lamda,e_x,E_beam_amp)\n",
        "        \n",
        "#E_0_at_atoms is a (n ,3) matrix, with n running over indices of atoms, 3 denoting the component of electric field at the atom "
      ]
    },
    {
      "cell_type": "code",
      "execution_count": 145,
      "metadata": {
        "colab": {
          "base_uri": "https://localhost:8080/",
          "height": 317
        },
        "id": "r_uW9amXeIzN",
        "outputId": "ac873451-ccd5-4ba6-fd66-fa615d8489fb"
      },
      "outputs": [
        {
          "output_type": "stream",
          "name": "stdout",
          "text": [
            "1.0100000000000147e-05\n",
            "-1.0000000000000003e-05\n"
          ]
        },
        {
          "output_type": "display_data",
          "data": {
            "text/plain": [
              "<Figure size 432x288 with 2 Axes>"
            ],
            "image/png": "[encoded data removed]"
          },
          "metadata": {
            "needs_background": "light"
          }
        }
      ],
      "source": [
        "#Trying out different plots\n",
        "x_axis=np.arange(-L/2,L/2+a,a)\n",
        "y_axis=np.arange(L/2,-L/2+a,a)\n",
        "print(x_axis.max())\n",
        "print(x_axis.min())\n",
        "z_min, z_max = -np.abs(E_0_at_atoms.real[:,0]).max(), np.abs(E_0_at_atoms.real[:,0]).max()\n",
        "\n",
        "fig, ax = plt.subplots()\n",
        "\n",
        "c = plt.imshow(E_0_at_atoms.real[:,0].reshape(n_side,n_side), cmap ='Greens', vmin = z_min, vmax = z_max,   interpolation ='nearest', origin ='lower')\\\n",
        "              # extent =[x_axis.min(), x_axis.max(), y_axis.min(), y_axis.max()],\\\n",
        "             \n",
        "plt.colorbar(c)\n",
        " \n",
        "plt.title('Electric Field at z=0' , fontweight =\"bold\")\n",
        "plt.show()\n"
      ]
    },
    {
      "cell_type": "markdown",
      "metadata": {
        "id": "tgqW5HkreIzO"
      },
      "source": [
        "Final 3N vector of electric field (magnitude, real part and imaginary part are separated). Here, the order goes as\\\n",
        "\n",
        "(-(n-1)*a/2,-(n-1)*a/2); (-(n+1)*a/2,-(n-1)*a/2); (-(n+3)*a/2,-(n-1)*a/2); ... ((n-1)*a/2,-(n-1)*a/2);  \\\n",
        "(-(n-1)*a/2,-(n+1)*a/2); ...                                                   ((n-1)*a/2,-(n+1)*a/2);\\\n",
        ".\\\n",
        ".\\\n",
        ".\\\n",
        "(-(n-1)*a/2,(n-1)*a/2); ...                                                    ((n-1)*a/2,(n-1)*a/2)\\\n",
        "\\\n",
        "where (x,y) represent coordinates of the atoms.\n",
        "\n"
      ]
    },
    {
      "cell_type": "code",
      "execution_count": null,
      "metadata": {
        "id": "r4NDN2xxeIzP"
      },
      "outputs": [],
      "source": [
        ""
      ]
    },
    {
      "cell_type": "markdown",
      "metadata": {
        "id": "_0bVBqG6eIzQ"
      },
      "source": [
        "The block below performs the task of finding the field at the atoms using eq S $54$\n",
        "\n",
        "\n",
        "$$\\overline{E} = E_i(\\textbf{r}_n) = \\left[1-4\\pi^2\\frac{\\alpha}{\\epsilon_0\\lambda^3}\\lambda\\overline{\\overline{\\mathbb{G}}}\\right]^{-1}\\overline{E}_0$$"
      ]
    },
    {
      "cell_type": "markdown",
      "metadata": {
        "id": "NteIdyBceIzQ"
      },
      "source": [
        " The block below calculates the field at any point, using equation S5\n",
        "$$E_i(\\textbf{r}) = E_{0,i}(\\textbf{r}) + 4\\pi^2\\frac{\\alpha}{\\epsilon_o\\lambda^3}\\sum_j\\sum_n\\lambda\n",
        "    G_{ij}(k,\\textbf{r},\\textbf{r}_n)E_j(\\textbf{r}_n)$$"
      ]
    },
    {
      "cell_type": "code",
      "execution_count": 115,
      "metadata": {
        "id": "jU34lscFeIzR"
      },
      "outputs": [],
      "source": [
        "# Function which returns, incident, scattered and total electric field at position x, y, z\n",
        "def E(x,y,z,E_at_atoms_V,w_0,R,lamda):   \n",
        "    '''returns the incident electric field, scattered electric field and total electric field at the point (x,y,z)\\\n",
        "    E_at_atoms_V is the field at the atoms'''\n",
        "    Greens_at_r = np.zeros(shape=(3,n,3),dtype=np.complex_)\n",
        "    E_0_at_r = gaussian_beam(x,y,z,w_0,lamda,np.array([1,0,0]))# incident electric field\n",
        "  \n",
        "    for i in range(0,3):\n",
        "        for m in range(0,3):\n",
        "            for atoms_index in range(0,n):\n",
        "                Greens_at_r[i,atoms_index,m]=Greens(i,m,k,(x,y,z),R[atoms_index])\n",
        "                \n",
        "    Greens_at_r_M = Greens_at_r.reshape(3,3*n)\n",
        "    # the scattered electric field\n",
        "    Scattered_field = (4*(np.pi**2)*alpha/(epsilon*lamda**2)) *np.matmul(Greens_at_r_M,E_at_atoms_V).reshape(3,)\\\n",
        "    #total electric field\n",
        "    E_space = np.add(E_0_at_r , Scattered_field)\n",
        "    \n",
        "    return E_0_at_r, Scattered_field, E_space # incident field, scattered field, total field"
      ]
    },
    {
      "cell_type": "markdown",
      "metadata": {
        "id": "SNJWQ5GgeIzS"
      },
      "source": [
        "This block find the field along the z-axis for a particulra x,y on the atomic plane"
      ]
    },
    {
      "cell_type": "code",
      "execution_count": 116,
      "metadata": {
        "id": "lk1T-B4AeIzS"
      },
      "outputs": [],
      "source": [
        "def a_graph(a_prime):\n",
        "    R=np.zeros(shape=(n,3)) \n",
        "    L=(n_side-1)*a_prime\n",
        "    for i in range(0,n):\n",
        "        R[i]=((-L/2+a_prime*(i%n_side)),(L/2-a_prime*int((i/n_side))),0)\n",
        "    \n",
        "    #Field value at points where atoms are placed i.e. z=0\n",
        "    E_0_at_atoms = np.zeros(shape=(n,3),dtype=np.complex_)\n",
        "\n",
        "    #position of atoms is at (x,y,0)\n",
        "    \n",
        "    # changing the width of the beam \n",
        "    w_0_prime = 0.3*np.sqrt(n)*a_prime\n",
        "\n",
        "\n",
        "\n",
        "    #The order is as explained in the final cell of gaussian_beam\n",
        "    #for i in range(0,n):\n",
        "         # E_0_at_atoms[i] = gaussian_beam(R[i][0],R[i][1],R[i][2],w_0_prime,lamda,e_x,E_beam_amp)\n",
        "        \n",
        "    #E_0_at_atoms is a (n ,3) matrix, with n running over indices of atoms, 3 denoting the component of electric field at the atom \n",
        "\n",
        "    G=np.zeros(shape=(n),dtype=np.complex_)\n",
        "\n",
        "    #Calculating the G matrix to find the field at the atoms in n_1,3,n_2,3 form, where n_1 is index of r1, n_2 is index of r2\n",
        "    # this g is used in eq S54\n",
        "    #for r_1 in range(0,n):      \n",
        "    \n",
        "    index_of_center=int(n/2)\n",
        "    for r_2 in range(0,n):\n",
        "         G[r_2]=Greens(0,0,k,R[index_of_center],R[r_2])# using eq S3\n",
        "         #using only G_xx, depend on polarization\n",
        "                            \n",
        "     # n must be odd for r_0 = 0\n",
        "    delta,tau=0,0\n",
        "    delta_next,tau_next=0,0\n",
        "    r_iter=0\n",
        "    print('entering loop')\n",
        "    while(r_iter<=n_side/2):\n",
        "        \n",
        "       if (r_iter<=n_side/2): \n",
        "        for x in range(- r_iter,r_iter):\n",
        "                iteration_index=index_of_center - r_iter*n_side + x\n",
        "                delta_next=G[iteration_index ].real\n",
        "                tau_next= G[iteration_index].imag\n",
        "                if (abs(delta_next-delta)<delta/1000 and abs(tau_next - tau)<tau/1000):\n",
        "                  delta =delta+delta_next\n",
        "                  tau= tau + tau_next   \n",
        "                  print('broken loop')\n",
        "                  r_iter=n_side +1 \n",
        "                  break# to exit loop\n",
        "                delta =delta+delta_next\n",
        "                tau= tau + tau_next   \n",
        "       if (r_iter<=n_side/2): \n",
        "        for x in range(- r_iter,r_iter):\n",
        "                iteration_index=index_of_center + r_iter*n_side + x\n",
        "                delta_next=G[iteration_index ].real\n",
        "                tau_next= G[iteration_index ].imag\n",
        "                if (abs(delta_next-delta)<delta/1000 and abs(tau_next - tau)<tau/1000):\n",
        "                  delta =delta+delta_next\n",
        "                  tau= tau + tau_next   \n",
        "                  print('broken loop')\n",
        "                  r_iter=n_side +1\n",
        "                  break # to exit loop\n",
        "                delta =delta+delta_next\n",
        "                tau= tau + tau_next   \n",
        "       if (r_iter<=n_side/2):\n",
        "        for y in range(- r_iter,r_iter):\n",
        "                iteration_index=index_of_center - r_iter + y*n_side\n",
        "                delta_next=G[iteration_index].real\n",
        "                tau_next= G[iteration_index].imag\n",
        "                if (abs(delta_next-delta)<delta/1000 and abs(tau_next - tau)<tau/1000):\n",
        "                  delta =delta+delta_next\n",
        "                  tau= tau + tau_next   \n",
        "                  print('broken loop')\n",
        "                  r_iter=n_side +1 \n",
        "                  break # to exit loop\n",
        "                delta =delta+delta_next\n",
        "                tau= tau + tau_next                  \n",
        "       if (r_iter<=n_side/2):\n",
        "        for y in range(- r_iter,r_iter):\n",
        "                iteration_index=index_of_center + r_iter + y*n_side\n",
        "                delta_next=G[iteration_index].real\n",
        "                tau_next= G[iteration_index].imag\n",
        "                if (abs(delta_next-delta)<delta/1000 and abs(tau_next - tau)<tau/1000):\n",
        "                  delta =delta+delta_next\n",
        "                  tau= tau + tau_next   \n",
        "                  print('broken loop')\n",
        "                  r_iter=n_side +1\n",
        "                  break # to exit loop\n",
        "                delta =delta+delta_next\n",
        "                tau= tau + tau_next           \n",
        "       r_iter +=1\n",
        "    delta_by_gamma=-3/2*lamda*delta\n",
        "    tau_by_gamma=3*lamda*tau\n",
        "    print('delta:',delta_by_gamma, 'tau: ', tau_by_gamma)\n",
        "    # G is in 3n * 3n matrix  form  \n",
        "   # G_M=G.reshape(3*n,3*n)\n",
        "\n",
        "    # E_0_at_atoms is the incident electric field at atoms\n",
        "   # E_0_V=E_0_at_atoms.reshape(3*n,1) # reshape E_n so that it can be multiplied by a 3n*3n  matrix\n",
        "\n",
        "    # Calculating total electric fields at the atoms\n",
        "    #I_M=np.identity(3*n,dtype=np.complex_)\n",
        "\n",
        "    #INVERSE_M=np.linalg.inv(I_M-(4*(np.pi**2)*alpha/(epsilon*lamda**2)*G_M)) # the inverse term in eq S54\n",
        "    \n",
        "    #E_at_atoms_V=np.matmul(INVERSE_M,E_0_V) # eq S54 \n",
        "\n",
        "    #E_at_atoms=E_at_atoms_V.reshape(n,3)\n",
        "    \n",
        "    # direction perpendicular to the central atom\n",
        "   # i,s,Total_E= E(R[index_of_center,0],R[index_of_center,1],100*lamda,E_at_atoms_V,w_0_prime,R,lamda) \n",
        "    #Incident_E,s,t=E(R[index_of_center,0],R[index_of_center,1],-100*lamda,E_at_atoms_V,w_0_prime,R,lamda)\n",
        "    #print(R[index_of_center])\n",
        "    #print(Total_E[0],Incident_E[0])\n",
        "    \n",
        "\n",
        "    #T_observed=(abs(Total_E[0]/Incident_E[0]))**2\n",
        "    return 0, delta_by_gamma, tau_by_gamma"
      ]
    },
    {
      "cell_type": "code",
      "execution_count": 146,
      "metadata": {
        "colab": {
          "base_uri": "https://localhost:8080/"
        },
        "id": "iVHby_KweIzT",
        "outputId": "0b701c04-2a51-41c9-c2ca-596a1c76e71d"
      },
      "outputs": [
        {
          "output_type": "stream",
          "name": "stdout",
          "text": [
            "entering loop\n",
            "delta: -11.24640622645534 tau:  21.54606873757299\n",
            "entering loop\n",
            "delta: -8.030858669977881 tau:  17.963246417988074\n",
            "entering loop\n",
            "delta: -5.693608029362015 tau:  14.899816260213372\n",
            "entering loop\n",
            "delta: -4.2034636316702025 tau:  12.617971776353428\n",
            "entering loop\n",
            "delta: -3.0043698421901817 tau:  10.840442751014935\n",
            "entering loop\n",
            "delta: -2.206952259031683 tau:  9.268934808815699\n",
            "entering loop\n",
            "delta: -1.5773471141842244 tau:  8.141587540130752\n",
            "entering loop\n",
            "delta: -1.095772726443157 tau:  7.054813519283281\n",
            "entering loop\n",
            "delta: -0.7599159465089314 tau:  6.248199319115273\n",
            "entering loop\n",
            "delta: -0.45575002820877913 tau:  5.510574124878048\n",
            "entering loop\n",
            "delta: -0.26301832459258717 tau:  4.88127177732655\n",
            "entering loop\n",
            "delta: -0.07847174761761787 tau:  4.374594329459222\n",
            "entering loop\n",
            "delta: 0.04811999021951418 tau:  3.8771815093269604\n",
            "entering loop\n",
            "delta: 0.15073815707698465 tau:  3.5030290181869455\n",
            "entering loop\n",
            "delta: 0.24163774940637062 tau:  3.123892185727212\n",
            "entering loop\n",
            "delta: 0.29557953412073146 tau:  2.819343208845213\n",
            "entering loop\n",
            "delta: 0.35786005107595525 tau:  2.5403214645920427\n",
            "entering loop\n",
            "delta: 0.38927346659003037 tau:  2.279990287707359\n",
            "entering loop\n",
            "delta: 0.4247459062926236 tau:  2.071442959517912\n",
            "entering loop\n",
            "delta: 0.4479577907184922 tau:  1.8534806152176044\n",
            "entering loop\n",
            "delta: 0.4621918251074149 tau:  1.684766157769704\n",
            "entering loop\n",
            "delta: 0.480312761744888 tau:  1.5118713346588564\n",
            "entering loop\n",
            "delta: 0.4826509583357067 tau:  1.363460121249922\n",
            "entering loop\n",
            "delta: 0.49319081827888045 tau:  1.2308701853016324\n",
            "entering loop\n",
            "delta: 0.4921568692460391 tau:  1.0977988817802085\n",
            "entering loop\n",
            "delta: 0.4933073164935331 tau:  0.9928120644263053\n",
            "entering loop\n",
            "delta: 0.4927782541192852 tau:  0.8787476120405486\n",
            "entering loop\n",
            "delta: 0.48641052832038384 tau:  0.7878242091614798\n",
            "entering loop\n",
            "delta: 0.4854853672605286 tau:  0.6959500324643675\n",
            "entering loop\n",
            "delta: 0.4760147037226147 tau:  0.6116944531821038\n",
            "entering loop\n",
            "delta: 0.47195606421883374 tau:  0.5393701455497641\n",
            "entering loop\n",
            "delta: 0.46319544266815327 tau:  0.4620138868624283\n",
            "entering loop\n",
            "delta: 0.4546951141799451 tau:  0.40185527818213296\n",
            "entering loop\n",
            "delta: 0.44764370114600616 tau:  0.33524996273308805\n",
            "entering loop\n",
            "delta: 0.4360256384217759 tau:  0.28010545437119644\n",
            "entering loop\n",
            "delta: 0.4291184126076856 tau:  0.22630501415778367\n",
            "entering loop\n",
            "delta: 0.4171041478967088 tau:  0.1733807632412647\n",
            "entering loop\n",
            "delta: 0.40826455403276896 tau:  0.13009385103926918\n",
            "entering loop\n",
            "delta: 0.3977944514999522 tau:  0.08116246585070762\n",
            "entering loop\n",
            "delta: 0.38639570877540946 tau:  0.04336244928693493\n",
            "entering loop\n",
            "delta: 0.37739881837731415 tau:  0.0015813524259465108\n",
            "entering loop\n",
            "delta: 0.36465986377027687 tau:  -0.03481637816415661\n",
            "entering loop\n",
            "delta: 0.3555787199032353 tau:  -0.06844102742731618\n",
            "entering loop\n",
            "delta: 0.34337849116834784 tau:  -0.10411795383939107\n",
            "entering loop\n",
            "delta: 0.33275423842109225 tau:  -0.13182621292492638\n",
            "entering loop\n",
            "delta: 0.3220711251056437 tau:  -0.16459217091740128\n",
            "entering loop\n",
            "delta: 0.309776534656135 tau:  -0.19007398831091674\n",
            "entering loop\n",
            "delta: 0.3000598127773502 tau:  -0.21753828699081496\n",
            "entering loop\n",
            "delta: 0.2872551858293952 tau:  -0.24312889424834452\n",
            "entering loop\n",
            "delta: 0.27710589358208954 tau:  -0.26508749473503623\n",
            "entering loop\n",
            "delta: 0.2651330114406022 tau:  -0.2903657494860369\n",
            "entering loop\n",
            "delta: 0.25357666232739584 tau:  -0.30903102959181983\n",
            "entering loop\n",
            "delta: 0.24282429068950748 tau:  -0.33179223835619814\n",
            "entering loop\n",
            "delta: 0.23007212339705696 tau:  -0.3499530771222949\n",
            "entering loop\n",
            "delta: 0.21974339855508973 tau:  -0.36849725116048654\n",
            "entering loop\n",
            "delta: 0.20687842839464857 tau:  -0.3873549083483035\n",
            "entering loop\n",
            "delta: 0.1957556583201078 tau:  -0.4020812572594252\n",
            "entering loop\n",
            "delta: 0.18371239588281554 tau:  -0.4205822180256277\n",
            "entering loop\n",
            "delta: 0.17119123615321002 tau:  -0.4336484462705735\n",
            "entering loop\n",
            "delta: 0.15993875027170357 tau:  -0.44973323944773164\n",
            "entering loop\n",
            "delta: 0.14644918712074062 tau:  -0.4632381911111572\n",
            "entering loop\n",
            "delta: 0.13503917713149333 tau:  -0.4758113843551592\n",
            "entering loop\n",
            "delta: 0.12154892245719354 tau:  -0.49013790641069654\n",
            "entering loop\n",
            "delta: 0.10892193614152659 tau:  -0.5000609624881241\n",
            "entering loop\n",
            "delta: 0.09600004695540441 tau:  -0.5137603330796839\n",
            "entering loop\n",
            "delta: 0.08181866916033176 tau:  -0.5230987474881134\n",
            "entering loop\n",
            "delta: 0.06907082846734094 tau:  -0.5343217262885636\n",
            "entering loop\n",
            "delta: 0.05386852005239409 tau:  -0.5445822339504329\n",
            "entering loop\n",
            "delta: 0.04019569515409952 tau:  -0.5527645967062882\n",
            "entering loop\n",
            "delta: 0.024738353423520393 tau:  -0.5636666093187515\n",
            "entering loop\n",
            "delta: 0.009151859196624182 tau:  -0.5700225148668713\n",
            "entering loop\n",
            "delta: -0.006427492338279209 tau:  -0.5798285757459923\n",
            "entering loop\n",
            "delta: -0.024168700398827295 tau:  -0.5862665018780279\n",
            "entering loop\n",
            "delta: -0.04073779503554766 tau:  -0.5933366785952165\n",
            "entering loop\n",
            "delta: -0.06024146757283665 tau:  -0.6007593970516647\n",
            "entering loop\n",
            "delta: -0.0792737233260428 tau:  -0.6049545056553366\n",
            "entering loop\n",
            "delta: -0.10032488694617352 tau:  -0.6124011225465379\n",
            "entering loop\n",
            "delta: -0.12316629324911982 tau:  -0.6150975593391141\n",
            "entering loop\n",
            "delta: -0.14663195824706657 tau:  -0.6204274990464849\n",
            "entering loop\n",
            "delta: -0.17421560437885333 tau:  -0.6230758280823966\n",
            "entering loop\n",
            "delta: -0.2024743447631128 tau:  -0.6245171005693275\n",
            "entering loop\n",
            "delta: -0.23606316125165708 tau:  -0.6268495687727773\n",
            "entering loop\n",
            "delta: -0.27309108115795666 tau:  -0.6238393285120368\n",
            "entering loop\n",
            "delta: -0.3162560517762958 tau:  -0.6228883854381883\n",
            "entering loop\n",
            "delta: -0.3687329122147146 tau:  -0.6147117516940485\n",
            "entering loop\n",
            "delta: -0.431535663568886 tau:  -0.6040495051095698\n",
            "entering loop\n",
            "delta: -0.515424634962859 tau:  -0.5841407649496239\n",
            "entering loop\n",
            "delta: -0.629489397482103 tau:  -0.5457206171238822\n",
            "entering loop\n",
            "delta: -0.8101112561916096 tau:  -0.47021640472542814\n",
            "entering loop\n",
            "delta: -1.1686851607942428 tau:  -0.24071799338737968\n",
            "entering loop\n",
            "delta: -3.154452375238764 tau:  6.019077313309152\n",
            "entering loop\n",
            "delta: -0.02887699741352809 tau:  2.0907573971679843\n",
            "entering loop\n",
            "delta: 0.08496793305371769 tau:  1.3955705236904792\n",
            "entering loop\n",
            "delta: 0.12154412850748061 tau:  1.0512376838921194\n",
            "entering loop\n",
            "delta: 0.1397695137218394 tau:  0.8378383105283945\n",
            "entering loop\n",
            "delta: 0.14838827161445628 tau:  0.6823207490989996\n",
            "entering loop\n",
            "delta: 0.1522278048336184 tau:  0.5691131295188046\n",
            "entering loop\n",
            "delta: 0.1550902236370646 tau:  0.4744960034727607\n",
            "entering loop\n",
            "delta: 0.15343970372536567 tau:  0.398792684366928\n",
            "entering loop\n",
            "delta: 0.15373013553020165 tau:  0.33490997717525506\n",
            "entering loop\n",
            "delta: 0.15017689345010793 tau:  0.27645093676450483\n",
            "entering loop\n",
            "delta: 0.14768579638473936 tau:  0.23068430630649953\n",
            "entering loop\n",
            "delta: 0.14434862775977828 tau:  0.18302862550973054\n",
            "entering loop\n",
            "delta: 0.138832761946036 tau:  0.14663896430820686\n",
            "entering loop\n",
            "delta: 0.13604641269936107 tau:  0.10907781785895827\n",
            "entering loop\n",
            "delta: 0.12860111152826842 tau:  0.07570150461604588\n",
            "entering loop\n",
            "delta: 0.1249091953328663 tau:  0.04801349429059738\n",
            "entering loop\n",
            "delta: 0.11765782275651152 tau:  0.015345012873572351\n",
            "entering loop\n",
            "delta: 0.11107694998493979 tau:  -0.005531053972787632\n",
            "entering loop\n",
            "delta: 0.10553775561337896 tau:  -0.03516730207095598\n",
            "entering loop\n",
            "delta: 0.09546773225168023 tau:  -0.05502271126265302\n",
            "entering loop\n",
            "delta: 0.09091180558315184 tau:  -0.07725528717734635\n",
            "entering loop\n",
            "delta: 0.07917559092043305 tau:  -0.10103149868409424\n",
            "entering loop\n",
            "delta: 0.07254056148320943 tau:  -0.11422108376447612\n",
            "entering loop\n",
            "delta: 0.06234363055864246 tau:  -0.14157132885170035\n",
            "entering loop\n",
            "delta: 0.050305242163149314 tau:  -0.15033563840926303\n",
            "entering loop\n",
            "delta: 0.0433315317150368 tau:  -0.17432108940162355\n",
            "entering loop\n",
            "delta: 0.025426740735808227 tau:  -0.18819468248739116\n",
            "entering loop\n",
            "delta: 0.018943898222321783 tau:  -0.1997309266948579\n",
            "entering loop\n",
            "delta: -0.0007034211052255413 tau:  -0.22605567805766208\n",
            "entering loop\n",
            "delta: -0.01414197000751295 tau:  -0.22296844016017336\n",
            "entering loop\n",
            "delta: -0.02895573750706393 tau:  -0.2573527484110531\n",
            "entering loop\n",
            "delta: -0.05748225353520473 tau:  -0.2527186202308674\n",
            "entering loop\n",
            "delta: -0.06548721759595486 tau:  -0.27402114615115875\n",
            "entering loop\n",
            "delta: -0.1100399283883049 tau:  -0.2956512793810349\n",
            "entering loop\n",
            "delta: -0.12482159141982906 tau:  -0.2745434421625402\n",
            "entering loop\n",
            "delta: -0.17139667328117764 tau:  -0.34562514020965235\n",
            "entering loop\n",
            "delta: -0.23415729039992209 tau:  -0.2781680840123889\n",
            "entering loop\n",
            "delta: -0.25898000542285565 tau:  -0.3646472039127553\n",
            "entering loop\n",
            "delta: -0.4553937866352379 tau:  -0.3542790936592535\n",
            "entering loop\n",
            "delta: -0.5135844424073573 tau:  -0.21185978590896418\n",
            "entering loop\n",
            "delta: -1.4507009649999931 tau:  -1.1437388744166186\n",
            "entering loop\n",
            "delta: 0.39745025151221186 tau:  1.6613243879927555\n",
            "entering loop\n",
            "delta: 0.09564930299216584 tau:  1.3610051255106344\n",
            "entering loop\n",
            "delta: 0.32454352092386246 tau:  0.9153800675263187\n",
            "entering loop\n",
            "delta: 0.17061345800419284 tau:  0.5487765363599566\n",
            "entering loop\n",
            "delta: 0.21390384033985424 tau:  0.6904716275129978\n",
            "entering loop\n",
            "delta: 0.2622465566277077 tau:  0.3656289887409821\n",
            "entering loop\n",
            "delta: 0.1540218172998069 tau:  0.3727038182812404\n",
            "entering loop\n",
            "delta: 0.24310825242096848 tau:  0.3975391260690673\n",
            "entering loop\n",
            "delta: 0.21275367669491208 tau:  0.17066607510155998\n",
            "entering loop\n",
            "delta: 0.1645834502447146 tau:  0.2634617939488037\n",
            "entering loop\n",
            "delta: 0.23226137297293112 tau:  0.21422724511635843\n",
            "entering loop\n",
            "delta: 0.1907729230492351 tau:  0.08392944253867061\n",
            "entering loop\n",
            "delta: 0.1682047313837233 tau:  0.14747409891329144\n",
            "entering loop\n",
            "delta: 0.2066364627032687 tau:  0.1144250064992732\n",
            "entering loop\n",
            "delta: 0.18889997652724505 tau:  0.021037633408833172\n",
            "entering loop\n",
            "delta: 0.15824020143355672 tau:  0.03830961704762695\n",
            "entering loop\n",
            "delta: 0.18120884492218003 tau:  0.05578819845800144\n",
            "entering loop\n",
            "delta: 0.18796680915937233 tau:  -0.030012635640991527\n",
            "entering loop\n",
            "delta: 0.14995381823671766 tau:  -0.049597242097141475\n",
            "entering loop\n",
            "delta: 0.15539478179853145 tau:  -0.008318497274753993\n",
            "entering loop\n",
            "delta: 0.17435986945635107 tau:  -0.05641269642483211\n",
            "entering loop\n",
            "delta: 0.15350272116666627 tau:  -0.10899523338409116\n",
            "entering loop\n",
            "delta: 0.13352996158699282 tau:  -0.0935868922232753\n",
            "entering loop\n",
            "delta: 0.1448455165255086 tau:  -0.07955211851371805\n",
            "entering loop\n",
            "delta: 0.15367403566188906 tau:  -0.12990651706826842\n",
            "entering loop\n",
            "delta: 0.12928970044580423 tau:  -0.1667971328670789\n",
            "entering loop\n",
            "delta: 0.11540692119880151 tau:  -0.14220652895136238\n",
            "entering loop\n",
            "delta: 0.12711482886889203 tau:  -0.14037297069460236\n",
            "entering loop\n",
            "delta: 0.12977467403382872 tau:  -0.18239478329708944\n",
            "entering loop\n",
            "delta: 0.11048569964960754 tau:  -0.21402962517229437\n",
            "entering loop\n",
            "delta: 0.09369687729843389 tau:  -0.19823539582628386\n",
            "entering loop\n",
            "delta: 0.10115360139650982 tau:  -0.18686107668150856\n",
            "entering loop\n",
            "delta: 0.10621285327969772 tau:  -0.22075325154486636\n",
            "entering loop\n",
            "delta: 0.09146541454165058 tau:  -0.25436045784465244\n",
            "entering loop\n",
            "delta: 0.07207135737470442 tau:  -0.25367051497670445\n",
            "entering loop\n",
            "delta: 0.06840602966413493 tau:  -0.23451689871510079\n",
            "entering loop\n",
            "delta: 0.07643571805491584 tau:  -0.2459036170774552\n",
            "entering loop\n",
            "delta: 0.07078149389286532 tau:  -0.2826205591526526\n",
            "entering loop\n",
            "delta: 0.0517047803107397 tau:  -0.30086068573283703\n",
            "entering loop\n",
            "delta: 0.03578972524920111 tau:  -0.29046648391860486\n",
            "entering loop\n",
            "delta: 0.03509164708748162 tau:  -0.2766623987500638\n",
            "entering loop\n",
            "delta: 0.03905258069856841 tau:  -0.2938838271448733\n",
            "entering loop\n",
            "delta: 0.029416580965524398 tau:  -0.32585064039056205\n",
            "entering loop\n",
            "delta: 0.00925418578602537 tau:  -0.3407139128605502\n",
            "entering loop\n",
            "delta: -0.00850285777372932 tau:  -0.3299061041933205\n",
            "entering loop\n",
            "delta: -0.012713761186534592 tau:  -0.31539403853362974\n",
            "entering loop\n",
            "delta: -0.012417550756073231 tau:  -0.32672512534929654\n",
            "entering loop\n",
            "delta: -0.022133197162508767 tau:  -0.3543183396974751\n",
            "entering loop\n",
            "delta: -0.04400763703362786 tau:  -0.37453843688768845\n",
            "entering loop\n",
            "delta: -0.0692664563295771 tau:  -0.3690536110595288\n",
            "entering loop\n",
            "delta: -0.08470646955146466 tau:  -0.35044234458281315\n",
            "entering loop\n",
            "delta: -0.09333657409634433 tau:  -0.3458107708757496\n",
            "entering loop\n",
            "delta: -0.10630955703897788 tau:  -0.3614494473193946\n",
            "entering loop\n",
            "delta: -0.13454318850501965 tau:  -0.38502672177679365\n",
            "entering loop\n",
            "delta: -0.1787463243048004 tau:  -0.3885936502571841\n",
            "entering loop\n",
            "delta: -0.23119617232120263 tau:  -0.3646110467055725\n",
            "entering loop\n",
            "delta: -0.29682523213854106 tau:  -0.31956624211390633\n",
            "entering loop\n",
            "delta: -0.41646955414279646 tau:  -0.23595032912084207\n",
            "entering loop\n",
            "delta: -1.113627039004214 tau:  1.957097599171123\n",
            "entering loop\n",
            "delta: -0.015480740072054584 tau:  0.537614762823271\n"
          ]
        }
      ],
      "source": [
        "a_list = np.arange(0.1*lamda, 2*lamda+2/100*lamda,1/100*lamda )\n",
        "T_a = np.zeros(shape=(len(a_list),3)) # (observed,calulated)\n",
        "for i in range(0,len(a_list),1):   \n",
        "    x = a_graph(a_list[i])\n",
        "    T_a[i]=x\n",
        "    "
      ]
    },
    {
      "cell_type": "code",
      "execution_count": null,
      "metadata": {
        "id": "Hh82PoxPeIzU"
      },
      "outputs": [],
      "source": [
        ""
      ]
    },
    {
      "cell_type": "code",
      "execution_count": 100,
      "metadata": {
        "id": "K1UyrD2_eIzV",
        "outputId": "910766cc-e4b5-4e90-a15c-4c125d40e1f5",
        "colab": {
          "base_uri": "https://localhost:8080/"
        }
      },
      "outputs": [
        {
          "output_type": "stream",
          "name": "stdout",
          "text": [
            "40\n"
          ]
        }
      ],
      "source": [
        "print(len(T_a[:]))"
      ]
    },
    {
      "cell_type": "code",
      "execution_count": 100,
      "metadata": {
        "id": "zz5C7pXleIzW"
      },
      "outputs": [],
      "source": [
        ""
      ]
    },
    {
      "cell_type": "code",
      "execution_count": 147,
      "metadata": {
        "id": "C4GpTXYLeIzW",
        "colab": {
          "base_uri": "https://localhost:8080/",
          "height": 317
        },
        "outputId": "0a1c6fd9-5d8e-418e-963f-d7710148af0a"
      },
      "outputs": [
        {
          "output_type": "display_data",
          "data": {
            "text/plain": [
              "<Figure size 432x288 with 1 Axes>"
            ],
            "image/png": "[encoded data removed]"
          },
          "metadata": {
            "needs_background": "light"
          }
        }
      ],
      "source": [
        "plt.plot(a_list[:]/lamda,-T_a[:,1],label='$\\Delta/ \\gamma$')#, s=10, c='black')\n",
        "plt.plot(a_list[:]/lamda,T_a[:,2],label='$ \\Gamma / \\gamma$',linestyle='dashed')#, s=10, c='black')\n",
        "\n",
        "plt.xlabel('a/$\\lambda$')\n",
        "plt.ylabel('y')\n",
        "plt.ylim(-1,4)\n",
        "plt.title(f'Cooperative Shift as a function of $a$ \\n for no.of atoms= {n}')\n",
        "plt.legend()\n",
        "plt.show()\n",
        "plt.show()"
      ]
    }
  ],
  "metadata": {
    "colab": {
      "collapsed_sections": [],
      "name": "T_vs_a for chaning waist.ipynb",
      "provenance": []
    },
    "kernelspec": {
      "display_name": "Python 3 (ipykernel)",
      "language": "python",
      "name": "python3"
    },
    "language_info": {
      "codemirror_mode": {
        "name": "ipython",
        "version": 3
      },
      "file_extension": ".py",
      "mimetype": "text/x-python",
      "name": "python",
      "nbconvert_exporter": "python",
      "pygments_lexer": "ipython3",
      "version": "3.9.5"
    }
  },
  "nbformat": 4,
  "nbformat_minor": 0
}